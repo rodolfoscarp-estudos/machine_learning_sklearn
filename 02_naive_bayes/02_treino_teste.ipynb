{
 "cells": [
  {
   "cell_type": "code",
   "execution_count": 1,
   "metadata": {},
   "outputs": [],
   "source": [
    "import csv\n",
    "\n",
    "def carregar_acessos():\n",
    "    X = []\n",
    "    Y = []\n",
    "\n",
    "    with open('data/acesso.csv', 'r') as arquivo:\n",
    "\n",
    "        leitor = csv.reader(arquivo)\n",
    "\n",
    "        next(leitor)\n",
    "\n",
    "        for home, como_funciona, contato, comprou in leitor:\n",
    "            X.append([\n",
    "                int(home), int(como_funciona), int(contato)\n",
    "            ])\n",
    "\n",
    "            Y.append(int(comprou))\n",
    "\n",
    "    return X, Y"
   ]
  },
  {
   "cell_type": "code",
   "execution_count": 2,
   "metadata": {},
   "outputs": [],
   "source": [
    "X, Y = carregar_acessos()\n",
    "\n",
    "treino_dados = X[:90]\n",
    "treino_marcacoes = Y[:90]\n",
    "\n",
    "teste_dados = X[-9:]\n",
    "teste_marcacoes = Y[-9:]"
   ]
  },
  {
   "cell_type": "code",
   "execution_count": 3,
   "metadata": {},
   "outputs": [
    {
     "data": {
      "text/plain": [
       "MultinomialNB()"
      ]
     },
     "execution_count": 3,
     "metadata": {},
     "output_type": "execute_result"
    }
   ],
   "source": [
    "from sklearn.naive_bayes import MultinomialNB\n",
    "modelo = MultinomialNB()\n",
    "\n",
    "modelo.fit(treino_dados, treino_marcacoes)"
   ]
  },
  {
   "cell_type": "code",
   "execution_count": 4,
   "metadata": {},
   "outputs": [
    {
     "name": "stdout",
     "output_type": "stream",
     "text": [
      "Taxa de Acerto: 88.89%\n",
      "Total de elementos: 9\n"
     ]
    }
   ],
   "source": [
    "previsoes = modelo.predict(teste_dados)\n",
    "diferencas = previsoes - teste_marcacoes\n",
    "\n",
    "acertos = [d for d in diferencas if d == 0]\n",
    "\n",
    "total_de_acertos = len(acertos)\n",
    "total_de_elementos = len(teste_dados)\n",
    "\n",
    "taxa_de_acerto = 100.0 * total_de_acertos / total_de_elementos\n",
    "\n",
    "print(f'Taxa de Acerto: {taxa_de_acerto:.2f}%')\n",
    "print(f'Total de elementos: {total_de_elementos}')"
   ]
  }
 ],
 "metadata": {
  "kernelspec": {
   "display_name": "Python 3.9.7 ('base')",
   "language": "python",
   "name": "python3"
  },
  "language_info": {
   "codemirror_mode": {
    "name": "ipython",
    "version": 3
   },
   "file_extension": ".py",
   "mimetype": "text/x-python",
   "name": "python",
   "nbconvert_exporter": "python",
   "pygments_lexer": "ipython3",
   "version": "3.9.7"
  },
  "orig_nbformat": 4,
  "vscode": {
   "interpreter": {
    "hash": "1b93dce18ef25bb120f080693279369b346c8946ce46656d9dc250729e05395d"
   }
  }
 },
 "nbformat": 4,
 "nbformat_minor": 2
}
